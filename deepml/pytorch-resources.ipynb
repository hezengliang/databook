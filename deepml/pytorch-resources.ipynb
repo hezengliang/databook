{
 "cells": [
  {
   "cell_type": "markdown",
   "metadata": {},
   "source": [
    "# 深度学习引擎-PyTorch资源集锦\n",
    "\n",
    "- https://my.oschina.net/u/2306127/blog/3019985\n",
    "\n",
    "大量与PyTorch( https://pytorch.org )相关的资源链接，包括：入门教程，应用实例，图像、视觉、CNN相关实现，对抗生成网络、生成模型、GAN实现，机器翻译、问答系统、NLP实现，先进视觉推理系统，深度强化学习实现，通用神经网络高级应用等等。"
   ]
  },
  {
   "cell_type": "markdown",
   "metadata": {},
   "source": [
    "## 入门教程\n",
    "\n",
    "1. https://github.com/MorvanZhou/PyTorch-Tutorial.git ,著名的“莫烦”PyTorch系列教程的源码。\n",
    "- http://pytorch.org/tutorials/beginner/deep_learning_60min_blitz.html, Deep Learning with PyTorch: a 60-minute blitz, PyTorch官网推荐的教程，重点在于介绍PyTorch的基本原理，包括自动求导，神经网络，以及误差优化API。\n",
    "- https://github.com/jcjohnson/pytorch-examples.git, Simple examples to introduce PyTorch，通过一些实例的方式，讲解PyTorch的基本原理。内容涉及Numpy、自动求导、参数优化、权重共享等。\n",
    "- PyTorch支持Kubernetes集群, https://my.oschina.net/u/2306127/blog/1817835\n",
    "  -  Kubeflow 使用指南，https://my.oschina.net/u/2306127/blog/1808582\n",
    "  -  pytorch-operator 项目源码，https://github.com/kubeflow/pytorch-operator\n",
    "  -  pytorch-operator on Kubernetes，https://my.oschina.net/u/2306127/blog/1811457"
   ]
  },
  {
   "cell_type": "markdown",
   "metadata": {},
   "source": [
    "## 应用实例\n",
    "\n",
    "1. Ten minutes pyTorch Tutorial, https://github.com/SherlockLiao/pytorch-beginner.git, 知乎上“十分钟学习PyTorch“系列教程的源码。\n",
    "- ZOfficial PyTorch Examples, https://github.com/pytorch/examples, 官方提供的实例源码.\n",
    "    - MNIST Convnets\n",
    "    - Word level Language Modeling using LSTM RNNs\n",
    "    - Training Imagenet Classifiers with Residual Networks\n",
    "    - Generative Adversarial Networks (DCGAN)\n",
    "    - Variational Auto-Encoders\n",
    "    - Superresolution using an efficient sub-pixel convolutional neural network\n",
    "    - Hogwild training of shared ConvNets across multiple processes on MNIST\n",
    "    - Training a CartPole to balance in OpenAI Gym with actor-critic\n",
    "    - Natural Language Inference (SNLI) with GloVe vectors, LSTMs, and torchtext\n",
    "    - Time sequence prediction - create an LSTM to learn Sine waves\n",
    "    \n",
    "- PyTorch Tutorial for Deep Learning Researchers, https://github.com/yunjey/pytorch-tutorial.git, 据说是提供给深度学习科研者们的PyTorch教程←_←。教程中的每个实例的代码都控制在30行左右，简单易懂.\n",
    "    - PyTorch Basics\n",
    "    - Linear Regression\n",
    "    - Logistic Regression\n",
    "    - Feedforward Neural Network\n",
    "    - Convolutional Neural Network\n",
    "    - Deep Residual Network\n",
    "    - Recurrent Neural Network\n",
    "    - Bidirectional Recurrent Neural Network\n",
    "    - Language Model (RNN-LM)\n",
    "    - Generative Adversarial Network\n",
    "    - Image Captioning (CNN-RNN)\n",
    "    - Deep Convolutional GAN (DCGAN)\n",
    "    - Variational Auto-Encoder\n",
    "    - Neural Style Transfer\n",
    "    - TensorBoard in PyTorch\n",
    "\n",
    "- PyTorch-playground, https://github.com/aaron-xichen/pytorch-playground.git, PyTorch初学者的Playground，在这里针对一下常用的数据集，已经写好了一些模型，所以大家可以直接拿过来玩玩看，目前支持以下数据集的模型。\n",
    "    - mnist, svhn\n",
    "    - cifar10, cifar100\n",
    "    - stl10\n",
    "    - alexnet\n",
    "    - vgg16, vgg16_bn, vgg19, vgg19_bn\n",
    "    - resnet18, resnet34, resnet50, resnet101, resnet152\n",
    "    - squeezenet_v0, squeezenet_v1\n",
    "    - inception_v3"
   ]
  },
  {
   "cell_type": "markdown",
   "metadata": {},
   "source": [
    "# 图像、视觉、CNN相关实现\n",
    "\n",
    "1. PyTorch-FCN, https://github.com/wkentaro/pytorch-fcn.git, FCN(Fully Convolutional Networks implemented) 的PyTorch实现。\n",
    "\n",
    "- Attention Transfer, https://github.com/szagoruyko/attention-transfer.git, 论文 “Paying More Attention to Attention: Improving the Performance of Convolutional Neural Networks via Attention Transfer” 的PyTorch实现。\n",
    "\n",
    "- Wide ResNet model in PyTorch, https://github.com/szagoruyko/functional-zoo.git, 一个PyTorch实现的 ImageNet Classification 。\n",
    "\n",
    "- CRNN for image-based sequence recognition, https://github.com/bgshih/crnn.git, 这个是 Convolutional Recurrent Neural Network (CRNN) 的 PyTorch 实现。CRNN 由一些CNN，RNN和CTC组成，常用于基于图像的序列识别任务，例如场景文本识别和OCR。\n",
    "\n",
    "- Scaling the Scattering Transform: Deep Hybrid Networks, https://github.com/edouardoyallon/pyscatwave.git, 使用了“scattering network”的CNN实现，特别的构架提升了网络的效果。\n",
    "\n",
    "-    Conditional Similarity Networks (CSNs), https://github.com/andreasveit/conditional-similarity-networks.git, 《Conditional Similarity Networks》的PyTorch实现。\n",
    "\n",
    "-    Multi-style Generative Network for Real-time Transfer, https://github.com/zhanghang1989/PyTorch-Style-Transfer.git, MSG-Net 以及 Neural Style 的 PyTorch 实现。\n",
    "\n",
    "-    Big batch training\n",
    "    https://github.com/eladhoffer/bigBatch.git\n",
    "    《Train longer, generalize better: closing the generalization gap in large batch training of neural networks》的 PyTorch 实现。\n",
    "    CortexNet\n",
    "\n",
    "-    https://github.com/e-lab/pytorch-CortexNet.git\n",
    "    一个使用视频训练的鲁棒预测深度神经网络。\n",
    "\n",
    "- Neural Message Passing for Quantum Chemistry\n",
    "    https://github.com/priba/nmp_qc.git\n",
    "    论文《Neural Message Passing for Quantum Chemistry》的PyTorch实现，好像是讲计算机视觉下的神经信息传递。\n"
   ]
  },
  {
   "cell_type": "markdown",
   "metadata": {},
   "source": [
    "# 对抗生成网络、生成模型、GAN相关实现\n",
    "\n",
    "1. Generative Adversarial Networks (GANs) in PyTorch\n",
    "    https://github.com/devnag/pytorch-generative-adversarial-networks.git\n",
    "    一个非常简单的由PyTorch实现的对抗生成网络\n",
    "\n",
    "- DCGAN & WGAN with Pytorch\n",
    "    https://github.com/chenyuntc/pytorch-GAN.git\n",
    "    由中国网友实现的DCGAN和WGAN，代码很简洁。\n",
    "\n",
    "- Official Code for WGAN\n",
    "    https://github.com/martinarjovsky/WassersteinGAN.git\n",
    "    WGAN的官方PyTorch实现。\n",
    "\n",
    "- DiscoGAN in PyTorch\n",
    "    https://github.com/carpedm20/DiscoGAN-pytorch.git\n",
    "    《Learning to Discover Cross-Domain Relations with Generative Adversarial Networks》的 PyTorch 实现。\n",
    "\n",
    "- Adversarial Generator-Encoder Network\n",
    "    https://github.com/DmitryUlyanov/AGE.git\n",
    "    《Adversarial Generator-Encoder Networks》的 PyTorch 实现。\n",
    "\n",
    "-    CycleGAN and pix2pix in PyTorch\n",
    "    https://github.com/junyanz/pytorch-CycleGAN-and-pix2pix.git\n",
    "    图到图的翻译，著名的 CycleGAN 以及 pix2pix 的PyTorch 实现。\n",
    "\n",
    "-    Weight Normalized GAN\n",
    "    https://github.com/stormraiser/GAN-weight-norm.git\n",
    "    《On the Effects of Batch and Weight Normalization in Generative Adversarial Networks》的 PyTorch 实现。\n"
   ]
  },
  {
   "cell_type": "markdown",
   "metadata": {},
   "source": [
    "# 机器翻译、问答系统、NLP相关实现\n",
    "\n",
    "1. DeepLearningForNLPInPytorch, https://github.com/rguthrie3/DeepLearningForNLPInPytorch.git, 一套以 NLP 为主题的 PyTorch 基础教程。本教程使用Ipython Notebook编写，看起来很直观，方便学习。\n",
    "\n",
    "- Practial Pytorch with Topic RNN & NLP, https://github.com/spro/practical-pytorch, 以 RNN for NLP 为出发点的 PyTorch 基础教程，分为“RNNs for NLP”和“RNNs for timeseries data”两个部分。\n",
    "\n",
    "- PyOpenNMT: Open-Source Neural Machine Translation, https://github.com/OpenNMT/OpenNMT-py.git, 一套由PyTorch实现的机器翻译系统。（包含，Attention Model）. \n",
    "\n",
    "- Deal or No Deal? End-to-End Learning for Negotiation Dialogues, https://github.com/facebookresearch/end-to-end-negotiator.git, \n",
    "Facebook AI Research 论文《Deal or No Deal? End-to-End Learning for Negotiation Dialogues》的 PyTorch 实现。    \n",
    "\n",
    "- Attention is all you need: A Pytorch Implementation, https://github.com/jadore801120/attention-is-all-you-need-pytorch.git,  Google Research 著名论文《Attention is all you need》的PyTorch实现。Attention Model（AM）。\n",
    "    \n",
    "- Improved Visual Semantic Embeddings, https://github.com/fartashf/vsepp.git, 一种从图像中检索文字的方法，来自论文：《VSE++: Improved Visual-Semantic Embeddings》。\n",
    "\n",
    "- Reading Wikipedia to Answer Open-Domain Questions, https://github.com/facebookresearch/DrQA.git, 一个开放领域问答系统DrQA的PyTorch实现。\n",
    "\n",
    "- Structured-Self-Attentive-Sentence-Embedding, https://github.com/ExplorerFreda/Structured-Self-Attentive-Sentence-Embedding.git, \n",
    "IBM 与 MILA 发表的《A Structured Self-Attentive Sentence Embedding》的开源实现。"
   ]
  },
  {
   "cell_type": "markdown",
   "metadata": {},
   "source": [
    "# 先进视觉推理系统\n",
    "\n",
    "1. Visual Question Answering in Pytorch, https://github.com/Cadene/vqa.pytorch.git, 一个PyTorch实现的优秀视觉推理问答系统，是基于论文《MUTAN: Multimodal Tucker Fusion for Visual Question Answering》实现的。项目中有详细的配置使用方法说明。\n",
    "\n",
    "- Clevr-IEP, https://github.com/facebookresearch/clevr-iep.git, Facebook Research 论文《Inferring and Executing Programs for Visual Reasoning》的PyTorch实现，讲的是一个可以基于图片进行关系推理问答的网络。\n"
   ]
  },
  {
   "cell_type": "markdown",
   "metadata": {},
   "source": [
    "# 深度强化学习相关实现\n",
    "\n",
    "- Deep Reinforcement Learning withpytorch & visdom, https://github.com/onlytailei/pytorch-rl.git, 多种使用PyTorch实现强化学习的方法。\n",
    "    Value Iteration Networks in PyTorch.\n",
    "    \n",
    "- https://github.com/onlytailei/Value-Iteration-Networks-PyTorch.git, Value Iteration Networks (VIN) 的PyTorch实现。\n",
    "\n",
    "- A3C in PyTorch, https://github.com/onlytailei/A3C-PyTorch.git, Adavantage async Actor-Critic (A3C) 的PyTorch实现。\n"
   ]
  },
  {
   "cell_type": "markdown",
   "metadata": {},
   "source": [
    "# 通用神经网络高级应用\n",
    "\n",
    "- PyTorch-meta-optimizer, https://github.com/ikostrikov/pytorch-meta-optimizer.git, 论文《Learning to learn by gradient descent by gradient descent》的PyTorch实现。\n",
    "\n",
    "- OptNet: Differentiable Optimization as a Layer in Neural Networks, https://github.com/locuslab/optnet.git, 论文《Differentiable Optimization as a Layer in Neural Networks》的PyTorch实现。\n",
    "\n",
    "- Task-based End-to-end Model Learning, https://github.com/locuslab/e2e-model-learning.git, 论文《Task-based End-to-end Model Learning》的PyTorch实现。\n",
    "\n",
    "-  DiracNets, https://github.com/szagoruyko/diracnets.git, 不使用“Skip-Connections”而搭建特别深的神经网络的方法。\n",
    "\n",
    "- ODIN: Out-of-Distribution Detector for Neural Networks, https://github.com/ShiyuLiang/odin-pytorch.git, 这是一个能够检测“分布不足”（Out-of-Distribution)样本的方法的PyTorch实现。当“true positive rate”为95％时，该方法将DenseNet（适用于CIFAR-10）的“false positive rate”从34.7％降至4.3％。\n",
    "\n",
    "- Accelerate Neural Net Training by Progressively Freezing Layers, https://github.com/ajbrock/FreezeOut.git, 一种使用“progressively freezing layers”来加速神经网络训练的方法。\n",
    "\n",
    "- Efficient_densenet_pytorch, https://github.com/gpleiss/efficient_densenet_pytorch.git, DenseNets的PyTorch实现，优化以节省GPU内存。"
   ]
  }
 ],
 "metadata": {
  "kernelspec": {
   "display_name": "Python 3",
   "language": "python",
   "name": "python3"
  },
  "language_info": {
   "codemirror_mode": {
    "name": "ipython",
    "version": 3
   },
   "file_extension": ".py",
   "mimetype": "text/x-python",
   "name": "python",
   "nbconvert_exporter": "python",
   "pygments_lexer": "ipython3",
   "version": "3.6.7"
  }
 },
 "nbformat": 4,
 "nbformat_minor": 2
}
