{
 "cells": [
  {
   "cell_type": "markdown",
   "metadata": {},
   "source": [
    "# Get PyTorch resources......"
   ]
  },
  {
   "cell_type": "code",
   "execution_count": 1,
   "metadata": {},
   "outputs": [
    {
     "name": "stdout",
     "output_type": "stream",
     "text": [
      "Cloning into 'PyTorch-Tutorial'...\n",
      "remote: Enumerating objects: 523, done.\u001b[K\n",
      "remote: Total 523 (delta 0), reused 0 (delta 0), pack-reused 523\u001b[K\n",
      "Receiving objects: 100% (523/523), 13.05 MiB | 166.00 KiB/s, done.\n",
      "fatal: unable to open /home/jovyan/databook/deepml/PyTorch-Tutorial/.git/objects/pack/tmp_pack_AO1Bsb: No such file or directory\n",
      "fatal: index-pack failed\n"
     ]
    }
   ],
   "source": [
    "!git clone https://github.com/MorvanZhou/PyTorch-Tutorial"
   ]
  },
  {
   "cell_type": "code",
   "execution_count": 2,
   "metadata": {},
   "outputs": [
    {
     "name": "stdout",
     "output_type": "stream",
     "text": [
      "Cloning into 'pytorch-examples'...\n",
      "remote: Enumerating objects: 162, done.\u001b[K\n",
      "remote: Total 162 (delta 0), reused 0 (delta 0), pack-reused 162\u001b[K\n",
      "Receiving objects: 100% (162/162), 52.65 KiB | 21.00 KiB/s, done.\n",
      "Resolving deltas: 100% (98/98), done.\n"
     ]
    }
   ],
   "source": [
    "!git clone https://github.com/jcjohnson/pytorch-examples"
   ]
  },
  {
   "cell_type": "code",
   "execution_count": 3,
   "metadata": {},
   "outputs": [
    {
     "name": "stdout",
     "output_type": "stream",
     "text": [
      "Cloning into 'examples'...\n",
      "remote: Enumerating objects: 4, done.\u001b[K\n",
      "remote: Counting objects: 100% (4/4), done.\u001b[K\n",
      "remote: Compressing objects: 100% (4/4), done.\u001b[K\n",
      "remote: Total 1862 (delta 0), reused 0 (delta 0), pack-reused 1858\u001b[K\n",
      "Receiving objects: 100% (1862/1862), 38.88 MiB | 48.00 KiB/s, done.\n",
      "Resolving deltas: 100% (968/968), done.\n",
      "Checking out files: 100% (74/74), done.\n"
     ]
    }
   ],
   "source": [
    "!git clone https://github.com/pytorch/examples"
   ]
  },
  {
   "cell_type": "code",
   "execution_count": null,
   "metadata": {},
   "outputs": [],
   "source": []
  }
 ],
 "metadata": {
  "kernelspec": {
   "display_name": "Python 3",
   "language": "python",
   "name": "python3"
  },
  "language_info": {
   "codemirror_mode": {
    "name": "ipython",
    "version": 3
   },
   "file_extension": ".py",
   "mimetype": "text/x-python",
   "name": "python",
   "nbconvert_exporter": "python",
   "pygments_lexer": "ipython3",
   "version": "3.6.7"
  }
 },
 "nbformat": 4,
 "nbformat_minor": 2
}
