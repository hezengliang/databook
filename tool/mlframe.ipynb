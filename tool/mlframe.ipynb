{
 "cells": [
  {
   "cell_type": "code",
   "execution_count": 2,
   "metadata": {},
   "outputs": [
    {
     "name": "stdout",
     "output_type": "stream",
     "text": [
      "Collecting pip\n",
      "  Using cached https://files.pythonhosted.org/packages/d7/41/34dd96bd33958e52cb4da2f1bf0818e396514fd4f4725a79199564cd0c20/pip-19.0.2-py2.py3-none-any.whl\n",
      "Installing collected packages: pip\n",
      "  Found existing installation: pip 9.0.3\n",
      "    Uninstalling pip-9.0.3:\n",
      "      Successfully uninstalled pip-9.0.3\n",
      "Successfully installed pip-19.0.2\n"
     ]
    }
   ],
   "source": [
    "!pip install --upgrade pip"
   ]
  },
  {
   "cell_type": "code",
   "execution_count": null,
   "metadata": {},
   "outputs": [
    {
     "name": "stdout",
     "output_type": "stream",
     "text": [
      "Collecting tushare\n",
      "  Downloading https://files.pythonhosted.org/packages/d8/38/8a36e3dffe49dd91a9a9b81248af741e3f4e42256246bf5ac0da6b019142/tushare-1.2.21.tar.gz (162kB)\n",
      "\u001b[K    100% |████████████████████████████████| 163kB 49kB/s \n",
      "\u001b[?25hCollecting pandas>=0.18.0 (from tushare)\n",
      "  Downloading https://files.pythonhosted.org/packages/e6/de/a0d3defd8f338eaf53ef716e40ef6d6c277c35d50e09b586e170169cdf0d/pandas-0.24.1-cp36-cp36m-manylinux1_x86_64.whl (10.1MB)\n",
      "\u001b[K    100% |████████████████████████████████| 10.1MB 9.5kB/s \n",
      "\u001b[?25hRequirement already satisfied: requests>=2.0.0 in /opt/conda/lib/python3.6/site-packages (from tushare)\n",
      "Collecting lxml>=3.8.0 (from tushare)\n",
      "  Downloading https://files.pythonhosted.org/packages/a9/3c/2a9b8a58d9e7a8e3123ada3e3420fb3a963420a1ed235d62647a55edb359/lxml-4.3.1-cp36-cp36m-manylinux1_x86_64.whl (5.7MB)\n",
      "\u001b[K    82% |██████████████████████████▌     | 4.7MB 20kB/s eta 0:00:49"
     ]
    }
   ],
   "source": [
    "!pip install tushare"
   ]
  },
  {
   "cell_type": "code",
   "execution_count": 2,
   "metadata": {},
   "outputs": [
    {
     "name": "stdout",
     "output_type": "stream",
     "text": [
      "Collecting apache-airflow\n",
      "\u001b[33m  Cache entry deserialization failed, entry ignored\u001b[0m\n",
      "  Downloading https://files.pythonhosted.org/packages/e4/06/45fe64a358ae595ac562640ce96a320313ff098eeff88afb3ca8293cb6b9/apache-airflow-1.10.2.tar.gz (5.2MB)\n",
      "\u001b[K    100% |████████████████████████████████| 5.2MB 18kB/s \n",
      "\u001b[?25h    Complete output from command python setup.py egg_info:\n",
      "    Traceback (most recent call last):\n",
      "      File \"<string>\", line 1, in <module>\n",
      "      File \"/tmp/pip-build-jhjpz5xh/apache-airflow/setup.py\", line 429, in <module>\n",
      "        do_setup()\n",
      "      File \"/tmp/pip-build-jhjpz5xh/apache-airflow/setup.py\", line 287, in do_setup\n",
      "        verify_gpl_dependency()\n",
      "      File \"/tmp/pip-build-jhjpz5xh/apache-airflow/setup.py\", line 53, in verify_gpl_dependency\n",
      "        raise RuntimeError(\"By default one of Airflow's dependencies installs a GPL \"\n",
      "    RuntimeError: By default one of Airflow's dependencies installs a GPL dependency (unidecode). To avoid this dependency set SLUGIFY_USES_TEXT_UNIDECODE=yes in your environment when you install or upgrade Airflow. To force installing the GPL version set AIRFLOW_GPL_UNIDECODE\n",
      "    \n",
      "    ----------------------------------------\n",
      "\u001b[31mCommand \"python setup.py egg_info\" failed with error code 1 in /tmp/pip-build-jhjpz5xh/apache-airflow/\u001b[0m\n",
      "\u001b[33mYou are using pip version 9.0.3, however version 19.0.2 is available.\n",
      "You should consider upgrading via the 'pip install --upgrade pip' command.\u001b[0m\n"
     ]
    }
   ],
   "source": [
    "!pip install apache-airflow"
   ]
  },
  {
   "cell_type": "code",
   "execution_count": 1,
   "metadata": {},
   "outputs": [
    {
     "name": "stdout",
     "output_type": "stream",
     "text": [
      "Collecting mlflow\n",
      "Collecting numpy (from mlflow)\n",
      "  Using cached https://files.pythonhosted.org/packages/f5/bf/4981bcbee43934f0adb8f764a1e70ab0ee5a448f6505bd04a87a2fda2a8b/numpy-1.16.1-cp36-cp36m-manylinux1_x86_64.whl\n",
      "Collecting click>=6.7 (from mlflow)\n",
      "  Using cached https://files.pythonhosted.org/packages/fa/37/45185cb5abbc30d7257104c434fe0b07e5a195a6847506c074527aa599ec/Click-7.0-py2.py3-none-any.whl\n",
      "Requirement already satisfied: requests>=2.17.3 in /opt/conda/lib/python3.6/site-packages (from mlflow)\n",
      "Collecting gunicorn (from mlflow)\n",
      "  Using cached https://files.pythonhosted.org/packages/8c/da/b8dd8deb741bff556db53902d4706774c8e1e67265f69528c14c003644e6/gunicorn-19.9.0-py2.py3-none-any.whl\n",
      "Collecting gitpython>=2.1.0 (from mlflow)\n",
      "  Using cached https://files.pythonhosted.org/packages/fe/e5/fafe827507644c32d6dc553a1c435cdf882e0c28918a5bab29f7fbebfb70/GitPython-2.1.11-py2.py3-none-any.whl\n",
      "Collecting simplejson (from mlflow)\n",
      "Collecting pandas (from mlflow)\n",
      "  Using cached https://files.pythonhosted.org/packages/e6/de/a0d3defd8f338eaf53ef716e40ef6d6c277c35d50e09b586e170169cdf0d/pandas-0.24.1-cp36-cp36m-manylinux1_x86_64.whl\n",
      "Collecting mleap>=0.8.1 (from mlflow)\n",
      "Collecting scikit-learn (from mlflow)\n",
      "  Using cached https://files.pythonhosted.org/packages/0d/3a/b92670f5c368c20329ecc4c255993fae7934564d485c3ed7ea7b8da7f741/scikit_learn-0.20.2-cp36-cp36m-manylinux1_x86_64.whl\n",
      "Collecting boto3>=1.7.12 (from mlflow)\n",
      "  Using cached https://files.pythonhosted.org/packages/01/bc/902b5315829ac2bdfea8d0ce57408abc207176128aa5a8cdb7f331b35376/boto3-1.9.91-py2.py3-none-any.whl\n",
      "Collecting protobuf>=3.6.0 (from mlflow)\n",
      "  Using cached https://files.pythonhosted.org/packages/c2/f9/28787754923612ca9bfdffc588daa05580ed70698add063a5629d1a4209d/protobuf-3.6.1-cp36-cp36m-manylinux1_x86_64.whl\n",
      "Collecting scipy (from mlflow)\n",
      "  Using cached https://files.pythonhosted.org/packages/7f/5f/c48860704092933bf1c4c1574a8de1ffd16bf4fde8bab190d747598844b2/scipy-1.2.1-cp36-cp36m-manylinux1_x86_64.whl\n",
      "Collecting pyyaml (from mlflow)\n",
      "Collecting querystring-parser (from mlflow)\n",
      "Collecting databricks-cli>=0.8.0 (from mlflow)\n",
      "Collecting cloudpickle (from mlflow)\n",
      "  Using cached https://files.pythonhosted.org/packages/34/80/66d06012248d7a8d3caf8c52937d435371336fb1161eb919ff6a57dccc70/cloudpickle-0.7.0-py2.py3-none-any.whl\n",
      "Requirement already satisfied: six>=1.10.0 in /opt/conda/lib/python3.6/site-packages (from mlflow)\n",
      "Collecting Flask (from mlflow)\n",
      "  Using cached https://files.pythonhosted.org/packages/7f/e7/08578774ed4536d3242b14dacb4696386634607af824ea997202cd0edb4b/Flask-1.0.2-py2.py3-none-any.whl\n",
      "Requirement already satisfied: python-dateutil in /opt/conda/lib/python3.6/site-packages (from mlflow)\n",
      "Requirement already satisfied: chardet<3.1.0,>=3.0.2 in /opt/conda/lib/python3.6/site-packages (from requests>=2.17.3->mlflow)\n",
      "Requirement already satisfied: idna<2.8,>=2.5 in /opt/conda/lib/python3.6/site-packages (from requests>=2.17.3->mlflow)\n",
      "Requirement already satisfied: urllib3<1.24,>=1.21.1 in /opt/conda/lib/python3.6/site-packages (from requests>=2.17.3->mlflow)\n",
      "Requirement already satisfied: certifi>=2017.4.17 in /opt/conda/lib/python3.6/site-packages (from requests>=2.17.3->mlflow)\n",
      "Collecting gitdb2>=2.0.0 (from gitpython>=2.1.0->mlflow)\n",
      "  Using cached https://files.pythonhosted.org/packages/da/30/a407568aa8d8f25db817cf50121a958722f3fc5f87e3a6fba1f40c0633e3/gitdb2-2.0.5-py2.py3-none-any.whl\n",
      "Collecting pytz>=2011k (from pandas->mlflow)\n",
      "  Using cached https://files.pythonhosted.org/packages/61/28/1d3920e4d1d50b19bc5d24398a7cd85cc7b9a75a490570d5a30c57622d34/pytz-2018.9-py2.py3-none-any.whl\n",
      "Collecting nose-exclude>=0.5.0 (from mleap>=0.8.1->mlflow)\n",
      "Collecting argparse>=1.1 (from mleap>=0.8.1->mlflow)\n",
      "  Using cached https://files.pythonhosted.org/packages/f2/94/3af39d34be01a24a6e65433d19e107099374224905f1e0cc6bbe1fd22a2f/argparse-1.4.0-py2.py3-none-any.whl\n",
      "Collecting s3transfer<0.3.0,>=0.2.0 (from boto3>=1.7.12->mlflow)\n",
      "  Using cached https://files.pythonhosted.org/packages/d7/de/5737f602e22073ecbded7a0c590707085e154e32b68d86545dcc31004c02/s3transfer-0.2.0-py2.py3-none-any.whl\n",
      "Collecting jmespath<1.0.0,>=0.7.1 (from boto3>=1.7.12->mlflow)\n",
      "  Using cached https://files.pythonhosted.org/packages/b7/31/05c8d001f7f87f0f07289a5fc0fc3832e9a57f2dbd4d3b0fee70e0d51365/jmespath-0.9.3-py2.py3-none-any.whl\n",
      "Collecting botocore<1.13.0,>=1.12.91 (from boto3>=1.7.12->mlflow)\n",
      "  Using cached https://files.pythonhosted.org/packages/75/6a/de557b897a67930cb8ba5df9d3088c0bd5d71e34b1c242984a04325d9754/botocore-1.12.91-py2.py3-none-any.whl\n",
      "Requirement already satisfied: setuptools in /opt/conda/lib/python3.6/site-packages (from protobuf>=3.6.0->mlflow)\n",
      "Collecting tabulate>=0.7.7 (from databricks-cli>=0.8.0->mlflow)\n",
      "Collecting configparser>=0.3.5 (from databricks-cli>=0.8.0->mlflow)\n",
      "  Using cached https://files.pythonhosted.org/packages/43/63/220afe02a0d302c2244309b1dce3d884a865be65c7d8148ededfc0c29c31/configparser-3.7.1-py3-none-any.whl\n",
      "Collecting itsdangerous>=0.24 (from Flask->mlflow)\n",
      "  Using cached https://files.pythonhosted.org/packages/76/ae/44b03b253d6fade317f32c24d100b3b35c2239807046a4c953c7b89fa49e/itsdangerous-1.1.0-py2.py3-none-any.whl\n",
      "Requirement already satisfied: Jinja2>=2.10 in /opt/conda/lib/python3.6/site-packages (from Flask->mlflow)\n",
      "Collecting Werkzeug>=0.14 (from Flask->mlflow)\n",
      "  Using cached https://files.pythonhosted.org/packages/20/c4/12e3e56473e52375aa29c4764e70d1b8f3efa6682bef8d0aae04fe335243/Werkzeug-0.14.1-py2.py3-none-any.whl\n",
      "Collecting smmap2>=2.0.0 (from gitdb2>=2.0.0->gitpython>=2.1.0->mlflow)\n",
      "  Using cached https://files.pythonhosted.org/packages/55/d2/866d45e3a121ee15a1dc013824d58072fd5c7799c9c34d01378eb262ca8f/smmap2-2.0.5-py2.py3-none-any.whl\n",
      "Collecting nose (from nose-exclude>=0.5.0->mleap>=0.8.1->mlflow)\n",
      "  Using cached https://files.pythonhosted.org/packages/15/d8/dd071918c040f50fa1cf80da16423af51ff8ce4a0f2399b7bf8de45ac3d9/nose-1.3.7-py3-none-any.whl\n",
      "Collecting docutils>=0.10 (from botocore<1.13.0,>=1.12.91->boto3>=1.7.12->mlflow)\n",
      "  Using cached https://files.pythonhosted.org/packages/36/fa/08e9e6e0e3cbd1d362c3bbee8d01d0aedb2155c4ac112b19ef3cae8eed8d/docutils-0.14-py3-none-any.whl\n",
      "Requirement already satisfied: MarkupSafe>=0.23 in /opt/conda/lib/python3.6/site-packages (from Jinja2>=2.10->Flask->mlflow)\n",
      "Installing collected packages: numpy, click, gunicorn, smmap2, gitdb2, gitpython, simplejson, pytz, pandas, scipy, nose, nose-exclude, argparse, scikit-learn, mleap, jmespath, docutils, botocore, s3transfer, boto3, protobuf, pyyaml, querystring-parser, tabulate, configparser, databricks-cli, cloudpickle, itsdangerous, Werkzeug, Flask, mlflow\n",
      "Successfully installed Flask-1.0.2 Werkzeug-0.14.1 argparse-1.4.0 boto3-1.9.91 botocore-1.12.91 click-7.0 cloudpickle-0.7.0 configparser-3.7.1 databricks-cli-0.8.3 docutils-0.14 gitdb2-2.0.5 gitpython-2.1.11 gunicorn-19.9.0 itsdangerous-1.1.0 jmespath-0.9.3 mleap-0.8.1 mlflow-0.8.2 nose-1.3.7 nose-exclude-0.5.0 numpy-1.16.1 pandas-0.24.1 protobuf-3.6.1 pytz-2018.9 pyyaml-3.13 querystring-parser-1.2.3 s3transfer-0.2.0 scikit-learn-0.20.2 scipy-1.2.1 simplejson-3.16.0 smmap2-2.0.5 tabulate-0.8.3\n",
      "\u001b[33mYou are using pip version 9.0.3, however version 19.0.2 is available.\n",
      "You should consider upgrading via the 'pip install --upgrade pip' command.\u001b[0m\n"
     ]
    }
   ],
   "source": [
    "!pip install mlflow"
   ]
  },
  {
   "cell_type": "code",
   "execution_count": null,
   "metadata": {},
   "outputs": [],
   "source": []
  }
 ],
 "metadata": {
  "kernelspec": {
   "display_name": "Python 3",
   "language": "python",
   "name": "python3"
  },
  "language_info": {
   "codemirror_mode": {
    "name": "ipython",
    "version": 3
   },
   "file_extension": ".py",
   "mimetype": "text/x-python",
   "name": "python",
   "nbconvert_exporter": "python",
   "pygments_lexer": "ipython3",
   "version": "3.6.5"
  }
 },
 "nbformat": 4,
 "nbformat_minor": 2
}
