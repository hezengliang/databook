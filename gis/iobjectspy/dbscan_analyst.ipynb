{
 "cells": [
  {
   "cell_type": "code",
   "execution_count": null,
   "metadata": {},
   "outputs": [],
   "source": [
    "from iobjectspy import density_based_clustering, Unit\n",
    "import os\n",
    "import sys\n",
    "\n",
    "# 设置示例数据路径\n",
    "example_data_dir = ''\n",
    "\n",
    "# 设置结果输出路径\n",
    "out_dir = os.path.join(example_data_dir, 'out')\n",
    "\n",
    "if not os.path.exists(out_dir):\n",
    "    os.makedirs(out_dir)\n",
    "\n",
    "\n",
    "def progress_func(step_event):\n",
    "    sys.stdout.write('%s,%s \\n' % (step_event.title, step_event.message))\n",
    "\n",
    "\n",
    "def dbscan_test():\n",
    "    \"\"\" 使用成都市某日17时到20时的出租车上车点数据taxi_up_webMercator，进行DBSCAN密度聚类,其中每类包含最少点数为50个, 搜索半径为100米\"\"\"\n",
    "\n",
    "    result = density_based_clustering(os.path.join(example_data_dir, 'example_dbscan.udb/taxi_up_webMercator'), 50, 100,\n",
    "                                      Unit.METER, out_data=os.path.join(out_dir, 'out_dbscan.udb'),\n",
    "                                      progress=progress_func)\n",
    "    if result is not None:\n",
    "        if isinstance(result, str):\n",
    "            print('DBSCAN密度聚类成功,结果数据集为 ' + result)\n",
    "        else:\n",
    "            print('DBSCAN密度聚类成功,结果数据集为 ' + result.name)\n",
    "    else:\n",
    "        print('DBSCAN密度聚类失败')\n",
    "\n",
    "\n",
    "if __name__ == '__main__':\n",
    "    dbscan_test()\n"
   ]
  },
  {
   "cell_type": "code",
   "execution_count": null,
   "metadata": {},
   "outputs": [],
   "source": [
    "exit()"
   ]
  }
 ],
 "metadata": {
  "kernelspec": {
   "display_name": "Python 3",
   "language": "python",
   "name": "python3"
  },
  "language_info": {
   "codemirror_mode": {
    "name": "ipython",
    "version": 3
   },
   "file_extension": ".py",
   "mimetype": "text/x-python",
   "name": "python",
   "nbconvert_exporter": "python",
   "pygments_lexer": "ipython3",
   "version": "3.6.7"
  }
 },
 "nbformat": 4,
 "nbformat_minor": 2
}
