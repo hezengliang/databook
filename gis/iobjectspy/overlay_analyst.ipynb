{
 "cells": [
  {
   "cell_type": "code",
   "execution_count": null,
   "metadata": {},
   "outputs": [],
   "source": [
    "from iobjectspy import (overlay,\n",
    "                        open_datasource)\n",
    "\n",
    "import os\n",
    "import sys\n",
    "\n",
    "# 设置示例数据路径\n",
    "example_data_dir = ''\n",
    "\n",
    "# 设置结果输出路径\n",
    "out_dir = os.path.join(example_data_dir, 'out')\n",
    "\n",
    "if not os.path.exists(out_dir):\n",
    "    os.makedirs(out_dir)\n",
    "\n",
    "\n",
    "def progress_func(step_event):\n",
    "    sys.stdout.write('%s,%s %d %%\\n' % (step_event.title, step_event.message, step_event.percent))\n",
    "\n",
    "\n",
    "def overlay_test():\n",
    "    ds = open_datasource(os.path.join(example_data_dir, 'example_data.udb'))\n",
    "\n",
    "    result = overlay(ds['Landuse_R'], ds['Geomor_R'], 'INTERSECT', 'LandType,Area',\n",
    "                     out_data=os.path.join(out_dir, 'out_overlay_analyst.udb'), progress=progress_func)\n",
    "\n",
    "    ds.close()\n",
    "\n",
    "    if result is not None:\n",
    "        if isinstance(result, str):\n",
    "            print('叠加分析成功,结果数据集为 ' + result)\n",
    "        else:\n",
    "            print('叠加分析成功,结果数据集为 ' + result.name)\n",
    "    else:\n",
    "        print('叠加分析失败')\n",
    "\n",
    "\n",
    "if __name__ == '__main__':\n",
    "    # 叠加分析\n",
    "    overlay_test()\n"
   ]
  },
  {
   "cell_type": "code",
   "execution_count": null,
   "metadata": {},
   "outputs": [],
   "source": [
    "exit()"
   ]
  }
 ],
 "metadata": {
  "kernelspec": {
   "display_name": "Python 3",
   "language": "python",
   "name": "python3"
  },
  "language_info": {
   "codemirror_mode": {
    "name": "ipython",
    "version": 3
   },
   "file_extension": ".py",
   "mimetype": "text/x-python",
   "name": "python",
   "nbconvert_exporter": "python",
   "pygments_lexer": "ipython3",
   "version": "3.5.4"
  }
 },
 "nbformat": 4,
 "nbformat_minor": 2
}
