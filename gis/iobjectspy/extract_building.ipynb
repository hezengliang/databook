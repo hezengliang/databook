{
 "cells": [
  {
   "cell_type": "code",
   "execution_count": null,
   "metadata": {},
   "outputs": [],
   "source": [
    "import os\n",
    "import time\n",
    "\n",
    "from iobjectspy import open_datasource\n",
    "from iobjectspy.ai.recognition import extract_region\n",
    "\n",
    "data_dir = ''\n",
    "out_dir = os.path.join(data_dir, 'out/')\n",
    "model_path = os.path.join(curr_dir, 'model')\n",
    "\n",
    "if not os.path.exists(out_dir):\n",
    "    os.makedirs(out_dir)\n",
    "\n",
    "    \n",
    "def extract_building_file_dom():\n",
    "    \"\"\"\n",
    "    基于DOM影像文件进行建筑物提取，结果面数据集保存在UDB数据源下\n",
    "    \"\"\"\n",
    "\n",
    "    print('使用CPU进行提取约需10分钟，使用GPU提取约需1分钟')\n",
    "\n",
    "    dom_path = os.path.join(data_dir, 'dom.tif')\n",
    "    start_time = time.time()\n",
    "    extract_region(dom_path, model_path, model_name='building_extract_with_dom',\n",
    "                   output=os.path.join(out_dir, 'out_building.udb'), out_dataset_name='file_dom')\n",
    "    end_time = time.time()\n",
    "    print('提取完成，共耗时{}s，结果数据保存在 {} 数据源下 file_dom 数据集中'.format(\n",
    "        end_time - start_time, out_dir + 'out_building.udb'))\n",
    "\n",
    "\n",
    "if __name__ == '__main__':\n",
    "\n",
    "    # 基于DOM影像文件进行建筑物提取\n",
    "    extract_building_file_dom()"
   ]
  },
  {
   "cell_type": "code",
   "execution_count": null,
   "metadata": {},
   "outputs": [],
   "source": [
    "exit()"
   ]
  }
 ],
 "metadata": {
  "kernelspec": {
   "display_name": "Python 3",
   "language": "python",
   "name": "python3"
  },
  "language_info": {
   "codemirror_mode": {
    "name": "ipython",
    "version": 3
   },
   "file_extension": ".py",
   "mimetype": "text/x-python",
   "name": "python",
   "nbconvert_exporter": "python",
   "pygments_lexer": "ipython3",
   "version": "3.6.6"
  }
 },
 "nbformat": 4,
 "nbformat_minor": 2
}
