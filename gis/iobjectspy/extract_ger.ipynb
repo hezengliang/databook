{
 "cells": [
  {
   "cell_type": "code",
   "execution_count": null,
   "metadata": {},
   "outputs": [],
   "source": [
    "import os\n",
    "import CRFPP\n",
    "\n",
    "from iobjectspy import open_datasource\n",
    "from iobjectspy.ai.recognition import GER\n",
    "\n",
    "data_dir = ''\n",
    "out_dir = os.path.join(data_dir, 'out/')\n",
    "model_path = os.path.join(data_dir, 'model/ger/model')\n",
    "\n",
    "if not os.path.exists(out_dir):\n",
    "    os.makedirs(out_dir)\n",
    "    \n",
    "    \n",
    "def extract_ger_file():\n",
    "\n",
    "    print(\"初始化地理实体识别功能\")\n",
    "    ger = GER()\n",
    "\n",
    "    print(\"输入数据:\" + data_dir + 'addr.csv', \",模型位置:\" + model_path, \",输出结果：./out/out_addr.csv\")\n",
    "    ger.parse_batch((data_dir + 'addr.csv'), addr_field=1, model_path=model_path, out_data=os.path.join(out_dir, 'out_addr.csv'))\n",
    "\n",
    "if __name__ == '__main__':\n",
    "\n",
    "    # 基于CSV文件进行地址要素识别\n",
    "    extract_ger_file()"
   ]
  },
  {
   "cell_type": "code",
   "execution_count": null,
   "metadata": {},
   "outputs": [],
   "source": [
    "exit()"
   ]
  }
 ],
 "metadata": {
  "kernelspec": {
   "display_name": "Python 3",
   "language": "python",
   "name": "python3"
  },
  "language_info": {
   "codemirror_mode": {
    "name": "ipython",
    "version": 3
   },
   "file_extension": ".py",
   "mimetype": "text/x-python",
   "name": "python",
   "nbconvert_exporter": "python",
   "pygments_lexer": "ipython3",
   "version": "3.6.6"
  }
 },
 "nbformat": 4,
 "nbformat_minor": 2
}
