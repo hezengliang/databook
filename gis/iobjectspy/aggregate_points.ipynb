{
 "cells": [
  {
   "cell_type": "code",
   "execution_count": 1,
   "metadata": {},
   "outputs": [],
   "source": [
    "import iobjectspy as smo\n",
    "from iobjectspy import (aggregate_points, Unit)\n",
    "import os\n",
    "import sys"
   ]
  },
  {
   "cell_type": "code",
   "execution_count": 2,
   "metadata": {},
   "outputs": [
    {
     "name": "stdout",
     "output_type": "stream",
     "text": [
      "Output dir:  /home/jovyan/data/smdata/out\n",
      "Existed dir:  /home/jovyan/data/smdata/out\n"
     ]
    }
   ],
   "source": [
    "# 设置示例数据路径\n",
    "example_data_dir = '/home/jovyan/data/smdata/'\n",
    "\n",
    "# 设置结果输出路径\n",
    "out_dir = os.path.join(example_data_dir, 'out')\n",
    "print(\"Output dir: \", out_dir)\n",
    "\n",
    "if not os.path.exists(out_dir):\n",
    "    os.makedirs(out_dir)\n",
    "    print(\"Makedir: \", out_dir)\n",
    "else:\n",
    "    print(\"Existed dir: \", out_dir)"
   ]
  },
  {
   "cell_type": "code",
   "execution_count": 3,
   "metadata": {},
   "outputs": [
    {
     "data": {
      "text/plain": [
       "True"
      ]
     },
     "execution_count": 3,
     "metadata": {},
     "output_type": "execute_result"
    }
   ],
   "source": [
    "os.path.exists(\"/home/jovyan/data/smdata/out\")"
   ]
  },
  {
   "cell_type": "code",
   "execution_count": 7,
   "metadata": {},
   "outputs": [
    {
     "name": "stdout",
     "output_type": "stream",
     "text": [
      "total 98\n",
      "-rw-r--r-- 1 jovyan root  2396 Jul  8 09:18 out_aggregate_point.udb\n",
      "-rw-r--r-- 1 jovyan root 67584 Jul  8 09:18 out_aggregate_point.udd\n",
      "-rw-r--r-- 1 jovyan root     0 Jul  8 09:16 out_import_data_county_p.udb\n",
      "-rw-r--r-- 1 jovyan root 29696 Jul  8 09:16 out_import_data_county_p.udd\n"
     ]
    }
   ],
   "source": [
    "!ls -l ~/data/smdata/out"
   ]
  },
  {
   "cell_type": "code",
   "execution_count": 5,
   "metadata": {},
   "outputs": [],
   "source": [
    "def progress_func(step_event):\n",
    "    sys.stdout.write('%s,%s %%\\n' % (step_event.title, step_event.message))\n",
    "\n",
    "\n",
    "def aggregate_points_test():\n",
    "    \"\"\" 对点数据集 Town_P 进行点密度聚类,密度聚类的聚类点数目阈值为4, 聚类半径为3 千米\"\"\"\n",
    "    result = aggregate_points(os.path.join(example_data_dir, 'example_data.udb/Town_P'), 4, 3, Unit.KILOMETER,\n",
    "                              out_data=os.path.join(out_dir, 'out_aggregate_point.udb'), progress=progress_func)\n",
    "\n",
    "    if result is not None:\n",
    "        if isinstance(result, str):\n",
    "            print('点密度聚类成功,结果面数据集为 ' + result)\n",
    "        else:\n",
    "            print('点密度聚类成功,结果面数据集为 ' + result.name)\n",
    "    else:\n",
    "        print('点密度聚类失败')"
   ]
  },
  {
   "cell_type": "code",
   "execution_count": 6,
   "metadata": {},
   "outputs": [
    {
     "name": "stdout",
     "output_type": "stream",
     "text": [
      "java -cp /opt/conda/lib/python3.6/site-packages/iobjectspy/_jsuperpy/jars/com.supermap.jsuperpy-9.1.1.jar com.supermap.jsuperpy.ApplicationExample 127.0.0.1 57865\n",
      "[iObjectsPy]: Connection gateway-service successful, Python callback port bind 35389\n",
      "\n",
      "Proceeding point cluster analysis,Proceeding point cluster operation(6/591) %\n",
      "Proceeding point cluster analysis,Proceeding point cluster operation(18/591) %\n",
      "Proceeding point cluster analysis,Proceeding point cluster operation(30/591) %\n",
      "Proceeding point cluster analysis,Proceeding point cluster operation(42/591) %\n",
      "Proceeding point cluster analysis,Proceeding point cluster operation(54/591) %\n",
      "Proceeding point cluster analysis,Proceeding point cluster operation(66/591) %\n",
      "Proceeding point cluster analysis,Proceeding point cluster operation(77/591) %\n",
      "Proceeding point cluster analysis,Proceeding point cluster operation(89/591) %\n",
      "Proceeding point cluster analysis,Proceeding point cluster operation(101/591) %\n",
      "Proceeding point cluster analysis,Proceeding point cluster operation(113/591) %\n",
      "Proceeding point cluster analysis,Proceeding point cluster operation(125/591) %\n",
      "Proceeding point cluster analysis,Proceeding point cluster operation(136/591) %\n",
      "Proceeding point cluster analysis,Proceeding point cluster operation(148/591) %\n",
      "Proceeding point cluster analysis,Proceeding point cluster operation(160/591) %\n",
      "Proceeding point cluster analysis,Proceeding point cluster operation(172/591) %\n",
      "Proceeding point cluster analysis,Proceeding point cluster operation(184/591) %\n",
      "Proceeding point cluster analysis,Proceeding point cluster operation(196/591) %\n",
      "Proceeding point cluster analysis,Proceeding point cluster operation(207/591) %\n",
      "Proceeding point cluster analysis,Proceeding point cluster operation(219/591) %\n",
      "Proceeding point cluster analysis,Proceeding point cluster operation(231/591) %\n",
      "Proceeding point cluster analysis,Proceeding point cluster operation(243/591) %\n",
      "Proceeding point cluster analysis,Proceeding point cluster operation(255/591) %\n",
      "Proceeding point cluster analysis,Proceeding point cluster operation(266/591) %\n",
      "Proceeding point cluster analysis,Proceeding point cluster operation(278/591) %\n",
      "Proceeding point cluster analysis,Proceeding point cluster operation(290/591) %\n",
      "Proceeding point cluster analysis,Proceeding point cluster operation(302/591) %\n",
      "Proceeding point cluster analysis,Proceeding point cluster operation(314/591) %\n",
      "Proceeding point cluster analysis,Proceeding point cluster operation(326/591) %\n",
      "Proceeding point cluster analysis,Proceeding point cluster operation(337/591) %\n",
      "Proceeding point cluster analysis,Proceeding point cluster operation(349/591) %\n",
      "Proceeding point cluster analysis,Proceeding point cluster operation(361/591) %\n",
      "Proceeding point cluster analysis,Proceeding point cluster operation(373/591) %\n",
      "Proceeding point cluster analysis,Proceeding point cluster operation(385/591) %\n",
      "Proceeding point cluster analysis,Proceeding point cluster operation(396/591) %\n",
      "Proceeding point cluster analysis,Proceeding point cluster operation(408/591) %\n",
      "Proceeding point cluster analysis,Proceeding point cluster operation(420/591) %\n",
      "Proceeding point cluster analysis,Proceeding point cluster operation(432/591) %\n",
      "Proceeding point cluster analysis,Proceeding point cluster operation(444/591) %\n",
      "Proceeding point cluster analysis,Proceeding point cluster operation(456/591) %\n",
      "Proceeding point cluster analysis,Proceeding point cluster operation(467/591) %\n",
      "Proceeding point cluster analysis,Proceeding point cluster operation(479/591) %\n",
      "Proceeding point cluster analysis,Proceeding point cluster operation(491/591) %\n",
      "Proceeding point cluster analysis,Proceeding point cluster operation(503/591) %\n",
      "Proceeding point cluster analysis,Proceeding point cluster operation(515/591) %\n",
      "Proceeding point cluster analysis,Proceeding point cluster operation(526/591) %\n",
      "Proceeding point cluster analysis,Proceeding point cluster operation(538/591) %\n",
      "Proceeding point cluster analysis,Proceeding point cluster operation(550/591) %\n",
      "Proceeding point cluster analysis,Proceeding point cluster operation(562/591) %\n",
      "Proceeding point cluster analysis,Proceeding point cluster operation(574/591) %\n",
      "Proceeding point cluster analysis,Proceeding point cluster operation(586/591) %\n",
      "Proceeding point cluster analysis,Proceeding point construct to region operation(1/13) %\n",
      "Proceeding point cluster analysis,Proceeding point construct to region operation(2/13) %\n",
      "Proceeding point cluster analysis,Proceeding point construct to region operation(3/13) %\n",
      "Proceeding point cluster analysis,Proceeding point construct to region operation(4/13) %\n",
      "Proceeding point cluster analysis,Proceeding point construct to region operation(5/13) %\n",
      "Proceeding point cluster analysis,Proceeding point construct to region operation(6/13) %\n",
      "Proceeding point cluster analysis,Proceeding point construct to region operation(7/13) %\n",
      "Proceeding point cluster analysis,Proceeding point construct to region operation(8/13) %\n",
      "Proceeding point cluster analysis,Proceeding point construct to region operation(9/13) %\n",
      "Proceeding point cluster analysis,Proceeding point construct to region operation(10/13) %\n",
      "Proceeding point cluster analysis,Proceeding point construct to region operation(11/13) %\n",
      "Proceeding point cluster analysis,Proceeding point construct to region operation(12/13) %\n",
      "Proceeding point cluster analysis,Proceeding point construct to region operation(13/13) %\n",
      "点密度聚类成功,结果面数据集为 AggregateResult\n"
     ]
    }
   ],
   "source": [
    "aggregate_points_test()"
   ]
  },
  {
   "cell_type": "code",
   "execution_count": null,
   "metadata": {},
   "outputs": [],
   "source": []
  }
 ],
 "metadata": {
  "kernelspec": {
   "display_name": "Python 3",
   "language": "python",
   "name": "python3"
  },
  "language_info": {
   "codemirror_mode": {
    "name": "ipython",
    "version": 3
   },
   "file_extension": ".py",
   "mimetype": "text/x-python",
   "name": "python",
   "nbconvert_exporter": "python",
   "pygments_lexer": "ipython3",
   "version": "3.6.7"
  }
 },
 "nbformat": 4,
 "nbformat_minor": 2
}
