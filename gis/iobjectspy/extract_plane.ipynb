{
 "cells": [
  {
   "cell_type": "code",
   "execution_count": null,
   "metadata": {},
   "outputs": [],
   "source": [
    "import os\n",
    "import time\n",
    "\n",
    "from iobjectspy import open_datasource\n",
    "from iobjectspy.ai.recognition import detection\n",
    "\n",
    "data_dir = ''\n",
    "out_dir = os.path.join(data_dir, 'out/')\n",
    "model_path = os.path.join(data_dir, 'model/det/1')\n",
    "\n",
    "category_name = ['plane']\n",
    "\n",
    "if not os.path.exists(out_dir):\n",
    "    os.makedirs(out_dir)\n",
    "    \n",
    "def extract_plane_file():\n",
    "    \"\"\"\n",
    "    影像文件格式支持 ‘tif’、‘img’(Erdas Image)、'jpg'、'png' 等\n",
    "    目标检测结果为GeoJSON文件，包含目标位置、类型等信息\n",
    "    \"\"\"\n",
    "    start_time = time.time()\n",
    "    detection(data_dir + 'plane.tif', category_name, model_path,\n",
    "              out_data=out_dir, out_name='out_plane.json')\n",
    "    end_time = time.time()\n",
    "    print('耗时{}s'.format(end_time-start_time))\n",
    "\n",
    "if __name__ == '__main__':\n",
    "    # 基于影像文件进行飞机目标检测\n",
    "    extract_plane_file()"
   ]
  },
  {
   "cell_type": "code",
   "execution_count": null,
   "metadata": {},
   "outputs": [],
   "source": [
    "exit()"
   ]
  }
 ],
 "metadata": {
  "kernelspec": {
   "display_name": "Python 3",
   "language": "python",
   "name": "python3"
  },
  "language_info": {
   "codemirror_mode": {
    "name": "ipython",
    "version": 3
   },
   "file_extension": ".py",
   "mimetype": "text/x-python",
   "name": "python",
   "nbconvert_exporter": "python",
   "pygments_lexer": "ipython3",
   "version": "3.6.6"
  }
 },
 "nbformat": 4,
 "nbformat_minor": 2
}
