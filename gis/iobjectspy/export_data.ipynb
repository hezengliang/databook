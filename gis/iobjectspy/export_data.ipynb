{
 "cells": [
  {
   "cell_type": "code",
   "execution_count": null,
   "metadata": {},
   "outputs": [],
   "source": [
    "from iobjectspy import (export_to_geojson,\n",
    "                        export_to_tif)\n",
    "import os\n",
    "import sys\n",
    "\n",
    "# 设置示例数据路径\n",
    "example_data_dir = ''\n",
    "\n",
    "# 设置结果输出路径\n",
    "out_dir = os.path.join(example_data_dir, 'out')\n",
    "\n",
    "if not os.path.exists(out_dir):\n",
    "    os.makedirs(out_dir)\n",
    "\n",
    "\n",
    "def progress_func(step_event):\n",
    "    sys.stdout.write('%s,%s %%\\n' % (step_event.title, step_event.message))\n",
    "\n",
    "\n",
    "def export_to_geojson_test():\n",
    "    \"\"\"导出矢量数据集 road_1L 到 geojson 文件中\"\"\"\n",
    "\n",
    "    udb_path = os.path.join(example_data_dir, 'example_data.udb')\n",
    "    result = export_to_geojson(udb_path + '/road_lL', os.path.join(out_dir, 'out_export_data_road_1L.json'),\n",
    "                               is_over_write=True, progress=progress_func)\n",
    "    if result:\n",
    "        sys.stdout.write('导出数据集成功\\n')\n",
    "    else:\n",
    "        sys.stdout.write('导出数据集失败\\n')\n",
    "\n",
    "\n",
    "def export_to_tif_test():\n",
    "    \"\"\"导出影像数据集 seaport 到 tif 文件中。\"\"\"\n",
    "\n",
    "    udb_path = os.path.join(example_data_dir, 'example_data.udb')\n",
    "    result = export_to_tif(udb_path + '/seaport', os.path.join(out_dir, 'out_export_data_seaport.tif'),\n",
    "                           is_over_write=True, progress=progress_func)\n",
    "    if result:\n",
    "        sys.stdout.write('导出数据集成功\\n')\n",
    "    else:\n",
    "        sys.stdout.write('导出数据集失败\\n')\n",
    "\n",
    "\n",
    "if __name__ == '__main__':\n",
    "    # 导出矢量数据集到 geojson\n",
    "    export_to_geojson_test()\n",
    "\n",
    "    # 导出影像数据集到 tif 文件\n",
    "    export_to_tif_test()\n"
   ]
  },
  {
   "cell_type": "code",
   "execution_count": null,
   "metadata": {},
   "outputs": [],
   "source": [
    "exit()"
   ]
  }
 ],
 "metadata": {
  "kernelspec": {
   "display_name": "Python 3",
   "language": "python",
   "name": "python3"
  },
  "language_info": {
   "codemirror_mode": {
    "name": "ipython",
    "version": 3
   },
   "file_extension": ".py",
   "mimetype": "text/x-python",
   "name": "python",
   "nbconvert_exporter": "python",
   "pygments_lexer": "ipython3",
   "version": "3.5.4"
  }
 },
 "nbformat": 4,
 "nbformat_minor": 2
}
