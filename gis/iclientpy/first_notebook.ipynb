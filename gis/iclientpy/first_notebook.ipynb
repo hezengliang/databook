{
 "cells": [
  {
   "cell_type": "markdown",
   "metadata": {},
   "source": [
    "#### 运行方式：\n",
    "\n",
    "    * 将光标移动到需要运行的Cell内，Shift+Enter可以进行单个Cell的运行\n",
    "    * 将光标移动到需要运行的Cell内，Ctrl+Enter可以进行单个Cell的运行(与Shift+Enter方式的差别是：Shift+Enter会在运行后选择下一个Cell，如果没有Cell，则新建一个Cell，而Ctrl+Enter运行后，光标依旧选择当前Cell)\n",
    "    * 点击上方菜单栏Cell->Run All，可全部Cell运行\n",
    "\n",
    "#### 查看帮助：\n",
    "\n",
    "    查看某个对象，方法在该对象，方法后加入 ? 符号进行执行，如： \n",
    "    * 查询Online对象的帮助，需要运行： Online?\n",
    "    * 查询online实例下search_map的帮助，需要执行：online.search_map?\n",
    "\n",
    "#### 代码提示：\n",
    "    \n",
    "    * 对对象进行引用的时候，可输入对象名称的前几个字母，然后按Tab键进行提示，然后通过上下方向按键进行选择，Enter键表示选中\n",
    "    * 对对象进行方法或属性调用是在.符号输入后，按Tab键可进行提示，然后通过上下方向按键进行选择，Enter键表示选中"
   ]
  },
  {
   "cell_type": "markdown",
   "metadata": {},
   "source": [
    "引入Server类，选择下方的Cell按Shift+Enter执行代码"
   ]
  },
  {
   "cell_type": "code",
   "execution_count": null,
   "metadata": {},
   "outputs": [],
   "source": [
    "from iclientpy.server import Server\n",
    "server=Server('http://support.supermap.com.cn:8090/iserver')"
   ]
  },
  {
   "cell_type": "markdown",
   "metadata": {},
   "source": [
    "在下方的Cell中输入以下代码并执行（Shift+Enter）从iserver服务上查看那所有服务"
   ]
  },
  {
   "cell_type": "markdown",
   "metadata": {},
   "source": [
    "services = server.services\n",
    "\n",
    "services"
   ]
  },
  {
   "cell_type": "code",
   "execution_count": null,
   "metadata": {},
   "outputs": [],
   "source": []
  },
  {
   "cell_type": "markdown",
   "metadata": {},
   "source": [
    "在下方Cell中输入以下代码并执行（Shift+Enter）选中map-world/rest服务，可以根据服务名称进行选择，亦可根据上一步输出的索引进行选择"
   ]
  },
  {
   "cell_type": "markdown",
   "metadata": {},
   "source": [
    "map_service = services[\"map-world/rest\"]"
   ]
  },
  {
   "cell_type": "code",
   "execution_count": null,
   "metadata": {},
   "outputs": [],
   "source": []
  },
  {
   "cell_type": "markdown",
   "metadata": {},
   "source": [
    "在下方Cell中输入以下代码并执行（Shift+Enter）获取地图服务下面所有地图"
   ]
  },
  {
   "cell_type": "markdown",
   "metadata": {},
   "source": [
    "maps = map_service.maps\n",
    "\n",
    "maps"
   ]
  },
  {
   "cell_type": "code",
   "execution_count": null,
   "metadata": {},
   "outputs": [],
   "source": []
  },
  {
   "cell_type": "markdown",
   "metadata": {},
   "source": [
    "在下方Cell中输入以下代码并执行（Shift+Enter）查看World地图"
   ]
  },
  {
   "cell_type": "markdown",
   "metadata": {},
   "source": [
    "maps.World"
   ]
  },
  {
   "cell_type": "code",
   "execution_count": null,
   "metadata": {},
   "outputs": [],
   "source": []
  }
 ],
 "metadata": {
  "kernelspec": {
   "display_name": "Python 3",
   "language": "python",
   "name": "python3"
  },
  "language_info": {
   "codemirror_mode": {
    "name": "ipython",
    "version": 3
   },
   "file_extension": ".py",
   "mimetype": "text/x-python",
   "name": "python",
   "nbconvert_exporter": "python",
   "pygments_lexer": "ipython3",
   "version": "3.6.7"
  }
 },
 "nbformat": 4,
 "nbformat_minor": 2
}
