{
 "cells": [
  {
   "cell_type": "code",
   "execution_count": 8,
   "metadata": {},
   "outputs": [
    {
     "name": "stdout",
     "output_type": "stream",
     "text": [
      "usage: bypy [-h] [-V] [-d] [-v] [-r RETRY] [-q] [-t TIMEOUT] [-s SLICE]\n",
      "            [--chunk CHUNK] [-e] [-f] [--no-resume-download]\n",
      "            [--include-regex INCREGEX] [--on-dup ONDUP] [--no-symlink]\n",
      "            [--disable-ssl-check] [--cacerts CACERTS] [--mirror MIRROR]\n",
      "            [--select-fastest-mirror] [--rapid-upload-only]\n",
      "            [--resume-download-revert-back RCOUNT] [--move]\n",
      "            [--processes PROCESSES] [--downloader DOWNLOADER]\n",
      "            [--downloader-arguments DOWNLOADER_ARGS] [--config-dir CONFIGDIR]\n",
      "            [-c]\n",
      "            [command [command ...]]\n",
      "\n",
      "bypy v1.6.4 - Python client for Baidu Yun (Personal Cloud Storage) 百度云/百度网盘 Python 客户端\n",
      "\n",
      "positional arguments:\n",
      "  command               operations (quota, list, etc)\n",
      "\n",
      "optional arguments:\n",
      "  -h, --help            show this help message and exit\n",
      "  -V, --version         show program's version number and exit\n",
      "  -d, --debug           set debugging level (-dd to increase debugging level,\n",
      "                        -ddd to enable HTPP traffic debugging as well (very\n",
      "                        talkative)) [default: 0]\n",
      "  -v, --verbose         set verbosity level [default: 0]\n",
      "  -r RETRY, --retry RETRY\n",
      "                        number of retry attempts on network error [default: 5\n",
      "                        times]\n",
      "  -q, --quit-when-fail  quit when maximum number of retry failed [default:\n",
      "                        False]\n",
      "  -t TIMEOUT, --timeout TIMEOUT\n",
      "                        network timeout in seconds [default: 300]\n",
      "  -s SLICE, --slice SLICE\n",
      "                        size of file upload slice (can use '1024', '2k',\n",
      "                        '3MB', etc) [default: 20 MB]\n",
      "  --chunk CHUNK         size of file download chunk (can use '1024', '2k',\n",
      "                        '3MB', etc) [default: 20 MB]\n",
      "  -e, --verify          verify upload / download [default : False]\n",
      "  -f, --force-hash      force file MD5 / CRC32 calculation instead of using\n",
      "                        cached value\n",
      "  --no-resume-download  resume instead of restarting when downloading if local\n",
      "                        file already exists [default: True]\n",
      "  --include-regex INCREGEX\n",
      "                        regular expression of files to include. if not\n",
      "                        specified (default), everything is included. for\n",
      "                        download, the regex applies to the remote files; for\n",
      "                        upload, the regex applies to the local files. to\n",
      "                        exclude files, think about your regex, some tips here:\n",
      "                        https://stackoverflow.com/questions/406230/regular-\n",
      "                        expression-to-match-string-not-containing-a-word\n",
      "                        [default: ]\n",
      "  --on-dup ONDUP        what to do when the same file / folder exists in the\n",
      "                        destination: 'overwrite', 'skip', 'prompt' [default:\n",
      "                        overwrite]\n",
      "  --no-symlink          DON'T follow symbol links when uploading / syncing up\n",
      "  --disable-ssl-check   DON'T verify host SSL cerificate\n",
      "  --cacerts CACERTS     Specify the path for CA Bundle [default: None]\n",
      "  --mirror MIRROR       Specify the PCS mirror (e.g. bj.baidupcs.com. Open 'ht\n",
      "                        tps://pcs.baidu.com/rest/2.0/pcs/manage?method=listhos\n",
      "                        t' to get the list) to use. [default: pcs.baidu.com]\n",
      "  --select-fastest-mirror\n",
      "                        Let the program run some tests and select the fastest\n",
      "                        PCS mirror it detectes. [default: False]\n",
      "  --rapid-upload-only   only upload large files that can be rapidly uploaded\n",
      "  --resume-download-revert-back RCOUNT\n",
      "                        Revert back at least RCOUNT download chunk(s) and\n",
      "                        align to chunk boundary when resuming the download. A\n",
      "                        negative value means NO reverts. [default: 1]\n",
      "  --move                Delete source files/directories after\n",
      "                        download/upload/syncdown/syncup is successful (This\n",
      "                        will force verification of the files). [default:\n",
      "                        False]\n",
      "  --processes PROCESSES\n",
      "                        Number of parallel processes. (Only applies to dir\n",
      "                        sync/dl/ul). [default: 1]\n",
      "  --downloader DOWNLOADER\n",
      "                        downloader to use (use python if not specified). valid\n",
      "                        values: ['aria2'] [default: ]\n",
      "  --downloader-arguments DOWNLOADER_ARGS\n",
      "                        arguments for the downloader: normally, the string is\n",
      "                        the arguments to be passed to the downloader. however,\n",
      "                        when it begins with '@', it will be treated as the\n",
      "                        name of file, whose contents will be used as the\n",
      "                        downloader arguments (example: when specifying\n",
      "                        '@args.txt', file contents of 'args.txt' will be used\n",
      "                        as the downloader arguments, not the string\n",
      "                        '@args.txt' itself). you can also use environment\n",
      "                        variable 'DOWNLOADER_ARGUMENTS' to specify the\n",
      "                        downloader arguments (the environment variable has\n",
      "                        lower priority compared to this argument). default\n",
      "                        values: {'aria2': '-c -k10M -x4 -s4 --file-\n",
      "                        allocation=none'}\n",
      "  --config-dir CONFIGDIR\n",
      "                        specify the config path [default: /home/jovyan/.bypy]\n",
      "  -c, --clean           remove the token file (need re-auth) and upload\n",
      "                        progress file, -cc: clean hash cache file as well\n",
      "\n",
      "Commands:\n",
      "refreshtoken - refresh the access token\n",
      "cdl_add <source_url> [save_path] [timeout] - add an offline (cloud) download task\n",
      "cdl_addmon <source_url> [save_path] [timeout] - add an offline (cloud) download task and monitor the download progress\n",
      "cdl_cancel <task_id>  - cancel an offline (cloud) download task\n",
      "cdl_list - list offline (cloud) download tasks\n",
      "cdl_query <task_ids>  - query existing offline (cloud) download tasks\n",
      "cleancache - remove invalid entries from hash cache file\n",
      "combine <remotefile> [localfile] [md5s] - try to create a file at PCS by combining slices, having MD5s specified\n",
      "compare [remotedir] [localdir] - compare the remote directory with the local directory\n",
      "copy/cp <from> <to> - copy a file / dir remotely at Baidu Yun\n",
      "delete/remove/rm <remotepath> - delete a file / dir remotely at Baidu Yun\n",
      "downdir [remotedir] [localdir] - download a remote directory (recursively)\n",
      "downfile <remotefile> [localpath] - download a remote file.\n",
      "download [remotepath] [localpath] - download a remote directory (recursively) / file\n",
      "dumpcache - display file hash cache\n",
      "list/ls [remotepath] [format] [sort] [order] - list the 'remotepath' directory at Baidu PCS\n",
      "listrecycle [start] [limit] - list the recycle contents\n",
      "meta <remotepath> [format] - get information of the given path (dir / file) at Baidu Yun.\n",
      "mkdir <remotedir> - create a directory at Baidu Yun\n",
      "move/mv/rename/ren <from> <to> - move a file / dir remotely at Baidu Yun\n",
      "quota/info - displays the quota information\n",
      "restore <remotepath> - restore a file from the recycle bin\n",
      "search <keyword> [remotepath] [recursive] - search for a file using keyword at Baidu Yun\n",
      "stream <remotefile> <localpipe> [format] [chunk] - stream a video / audio file converted to M3U format at cloud side, to a pipe.\n",
      "syncdown [remotedir] [localdir] [deletelocal] - sync down from the remote directory to the local directory\n",
      "syncup [localdir] [remotedir] [deleteremote] - sync up from the local directory to the remote directory\n",
      "upload [localpath] [remotepath] [ondup] - upload a file or directory (recursively)\n"
     ]
    }
   ],
   "source": [
    "!python -m bypy"
   ]
  },
  {
   "cell_type": "code",
   "execution_count": 16,
   "metadata": {},
   "outputs": [
    {
     "name": "stdout",
     "output_type": "stream",
     "text": [
      "Looking in indexes: http://pypi.douban.com/simple #豆瓣源，可以换成其他的源, https://pypi.tuna.tsinghua.edu.cn/simple\n",
      "Collecting bs4\n",
      "Collecting beautifulsoup4 (from bs4)\n",
      "  Using cached https://pypi.tuna.tsinghua.edu.cn/packages/1d/5d/3260694a59df0ec52f8b4883f5d23b130bc237602a1411fa670eae12351e/beautifulsoup4-4.7.1-py3-none-any.whl\n",
      "Collecting soupsieve>=1.2 (from beautifulsoup4->bs4)\n",
      "  Using cached https://pypi.tuna.tsinghua.edu.cn/packages/77/78/bca00cc9fa70bba1226ee70a42bf375c4e048fe69066a0d9b5e69bc2a79a/soupsieve-1.8-py2.py3-none-any.whl\n",
      "Installing collected packages: soupsieve, beautifulsoup4, bs4\n",
      "Successfully installed beautifulsoup4-4.7.1 bs4-0.0.1 soupsieve-1.8\n"
     ]
    }
   ],
   "source": [
    "!pip install bs4"
   ]
  },
  {
   "cell_type": "code",
   "execution_count": 17,
   "metadata": {},
   "outputs": [
    {
     "name": "stdout",
     "output_type": "stream",
     "text": [
      "Quota: 5.007TB\n",
      "Used: 1.609TB\n"
     ]
    }
   ],
   "source": [
    "!python -m bypy info"
   ]
  },
  {
   "cell_type": "code",
   "execution_count": 18,
   "metadata": {},
   "outputs": [
    {
     "name": "stdout",
     "output_type": "stream",
     "text": [
      "/apps/bypy/data ($t $f $s $m $d):\n",
      "D anhui 0 2019-03-18, 00:07:54 \n",
      "D aomeng 0 2019-03-14, 15:37:35 \n",
      "D beijing 0 2019-03-14, 12:10:59 \n",
      "D chongqing 0 2019-03-18, 00:06:17 \n",
      "D fujian 0 2019-03-18, 00:03:28 \n",
      "D gansu 0 2019-03-17, 23:51:29 \n",
      "D guangdong 0 2019-03-14, 21:55:08 \n",
      "D guangxi 0 2019-03-16, 22:12:51 \n",
      "D guizhou 0 2019-03-16, 15:10:25 \n",
      "D hainan 0 2019-03-16, 14:19:25 \n",
      "D hebei 0 2019-03-14, 15:40:02 \n",
      "D heilongjiang 0 2019-03-15, 23:22:21 \n",
      "D henan 0 2019-03-16, 14:10:17 \n",
      "D hubei 0 2019-03-15, 22:42:26 \n",
      "D hunan 0 2019-03-15, 22:36:42 \n",
      "D jiangsu 0 2019-03-15, 22:20:21 \n",
      "D jiangxi 0 2019-03-15, 08:08:24 \n",
      "D jiling 0 2019-03-15, 22:25:35 \n",
      "D liaoning 0 2019-03-15, 04:07:52 \n",
      "D neimeng 0 2019-03-15, 06:27:53 \n",
      "D qinghai 0 2019-03-15, 07:49:35 \n",
      "D shandong 0 2019-03-15, 06:04:01 \n",
      "D shanghai 0 2019-03-15, 02:31:58 \n",
      "D shangxi 0 2019-03-15, 05:37:45 \n",
      "D shanxi 0 2019-03-15, 05:55:45 \n",
      "D sichuan 0 2019-03-14, 08:51:06 \n",
      "D taiwan 0 2019-03-14, 15:35:55 \n",
      "D tianjing 0 2019-03-14, 15:34:09 \n",
      "D xianggang 0 2019-03-14, 15:36:59 \n",
      "D xinjiang 0 2019-03-14, 21:29:38 \n",
      "D yunnan 0 2019-03-14, 21:16:58 \n",
      "D zhejiang 0 2019-03-15, 08:30:31 \n"
     ]
    }
   ],
   "source": [
    "!python -m bypy list data"
   ]
  },
  {
   "cell_type": "code",
   "execution_count": 12,
   "metadata": {},
   "outputs": [
    {
     "name": "stdout",
     "output_type": "stream",
     "text": [
      "total 70K\n",
      "drwxr-xrwx  2 jovyan 1000 4.0K Mar 15 06:16 aomeng\n",
      "drwxr-xrwx  2 jovyan 1000 4.0K Mar 15 06:16 beijing\n",
      "drwxr-xrwx  2 jovyan 1000 4.0K Mar 15 06:16 guangdong\n",
      "drwxr-xrwx  2 jovyan 1000 4.0K Mar 15 06:16 hebei\n",
      "drwxr-xrwx  2 jovyan 1000 4.0K Mar 15 06:16 liaoning\n",
      "-rw-r--rwx  1 jovyan 1000 5.7K Mar 14 09:49 list.txt\n",
      "drwxr-xrwx  2 jovyan 1000 4.0K Mar 15 06:16 shandong\n",
      "drwxr-xrwx  2 jovyan 1000 4.0K Mar 15 06:16 shanghai\n",
      "drwxr-xrwx  2 jovyan 1000 4.0K Mar 15 06:16 shangxi\n",
      "drwxr-xrwx  2 jovyan 1000 4.0K Mar 15 06:16 shanxi\n",
      "drwxr-xrwx  2 jovyan 1000 4.0K Mar 17 23:42 sichuan\n",
      "drwxr-xrwx  2 jovyan 1000 4.0K Mar 15 06:16 taiwan\n",
      "drwxr-xrwx  2 jovyan 1000 4.0K Mar 15 06:16 tianjing\n",
      "drwxr-xrwx  2 jovyan 1000 4.0K Mar 15 06:16 xianggang\n",
      "drwxr-xrwx  2 jovyan 1000 4.0K Mar 15 06:16 xinjiang\n",
      "drwxr-xrwx  2 jovyan 1000 4.0K Mar 15 06:16 yunnan\n",
      "drwxr-xrwx 10 jovyan 1000 4.0K Mar 15 10:06 zhejiang\n"
     ]
    }
   ],
   "source": [
    "!ls -l -h ~/data/"
   ]
  },
  {
   "cell_type": "code",
   "execution_count": 13,
   "metadata": {},
   "outputs": [
    {
     "name": "stdout",
     "output_type": "stream",
     "text": [
      "4.0K\t./shanghai\n",
      "38G\t./zhejiang\n",
      "4.0K\t./beijing\n",
      "4.0K\t./shangxi\n",
      "4.0K\t./taiwan\n",
      "4.0K\t./guangdong\n",
      "90G\t./sichuan\n",
      "4.0K\t./xianggang\n",
      "4.0K\t./liaoning\n",
      "4.0K\t./tianjing\n",
      "4.0K\t./hebei\n",
      "4.0K\t./xinjiang\n",
      "4.0K\t./aomeng\n",
      "4.0K\t./shanxi\n",
      "4.0K\t./shandong\n",
      "4.0K\t./yunnan\n",
      "127G\t.\n"
     ]
    }
   ],
   "source": [
    "%%sh\n",
    "cd ~/data\n",
    "du -d 1 -h "
   ]
  },
  {
   "cell_type": "code",
   "execution_count": null,
   "metadata": {},
   "outputs": [],
   "source": []
  }
 ],
 "metadata": {
  "kernelspec": {
   "display_name": "Python 3",
   "language": "python",
   "name": "python3"
  },
  "language_info": {
   "codemirror_mode": {
    "name": "ipython",
    "version": 3
   },
   "file_extension": ".py",
   "mimetype": "text/x-python",
   "name": "python",
   "nbconvert_exporter": "python",
   "pygments_lexer": "ipython3",
   "version": "3.6.5"
  }
 },
 "nbformat": 4,
 "nbformat_minor": 2
}
