{
 "cells": [
  {
   "cell_type": "code",
   "execution_count": 3,
   "metadata": {},
   "outputs": [],
   "source": [
    "with open('region.txt','r') as inf:\n",
    "    dict_from_file = eval(inf.read())"
   ]
  },
  {
   "cell_type": "code",
   "execution_count": 17,
   "metadata": {},
   "outputs": [
    {
     "name": "stdout",
     "output_type": "stream",
     "text": [
      "2109-浙江省卫星地图离线包下载 , http://www.rivermap.cn/help/show-2109.html\n",
      "2108-云南省卫星地图离线包下载 , http://www.rivermap.cn/help/show-2108.html\n",
      "2107-新疆卫星地图离线包下载 , http://www.rivermap.cn/help/show-2107.html\n",
      "2099-四川省卫星地图离线包下载 , http://www.rivermap.cn/help/show-2099.html\n",
      "2097-天津市卫星地图离线包下载 , http://www.rivermap.cn/help/show-2097.html\n",
      "2095-台湾省卫星地图离线包下载 , http://www.rivermap.cn/help/show-2095.html\n",
      "2093-香港卫星地图离线包下载 , http://www.rivermap.cn/help/show-2093.html\n",
      "2091-澳门卫星地图离线包下载 , http://www.rivermap.cn/help/show-2091.html\n",
      "2089-上海市卫星地图离线包下载 , http://www.rivermap.cn/help/show-2089.html\n",
      "2087-广东省卫星地图离线包下载 , http://www.rivermap.cn/help/show-2087.html\n",
      "2086-辽宁省卫星地图离线包下载 , http://www.rivermap.cn/help/show-2086.html\n",
      "2085-西藏自治区卫星地图离线包下载 , http://www.rivermap.cn/help/show-2085.html\n",
      "2079-陕西省卫星地图离线包下载 , http://www.rivermap.cn/help/show-2079.html\n",
      "2077-山西省卫星地图离线包下载 , http://www.rivermap.cn/help/show-2077.html\n",
      "2075-山东省卫星地图离线包下载 , http://www.rivermap.cn/help/show-2075.html\n",
      "2073-内蒙古自治区卫星地图离线包下载 , http://www.rivermap.cn/help/show-2073.html\n",
      "2063-青海省卫星地图离线包下载 , http://www.rivermap.cn/help/show-2063.html\n",
      "2061-宁夏省卫星地图离线包下载 , http://www.rivermap.cn/help/show-2061.html\n",
      "2058-江西省卫星地图离线包下载 , http://www.rivermap.cn/help/show-2058.html\n",
      "2055-江苏省卫星地图离线包下载 , http://www.rivermap.cn/help/show-2055.html\n",
      "2053-吉林省卫星地图离线包下载 , http://www.rivermap.cn/help/show-2053.html\n",
      "2051-湖南省卫星地图离线包下载 , http://www.rivermap.cn/help/show-2051.html\n",
      "2049-湖北省卫星地图离线包下载 , http://www.rivermap.cn/help/show-2049.html\n",
      "2047-黑龙江省卫星地图离线包下载 , http://www.rivermap.cn/help/show-2047.html\n",
      "1988-河北省卫星地图离线包下载 , http://www.rivermap.cn/help/show-1988.html\n",
      "1986-河南省卫星地图离线包下载 , http://www.rivermap.cn/help/show-1986.html\n",
      "1967-海南省卫星地图离线包下载 , http://www.rivermap.cn/help/show-1967.html\n",
      "1965-贵州省卫星地图离线包下载 , http://www.rivermap.cn/help/show-1965.html\n",
      "1963-广西省卫星地图离线包下载 , http://www.rivermap.cn/help/show-1963.html\n",
      "1952-甘肃省卫星地图离线包下载 , http://www.rivermap.cn/help/show-1952.html\n",
      "1948-福建省卫星地图离线包下载 , http://www.rivermap.cn/help/show-1948.html\n",
      "1943-重庆市卫星地图离线包下载 , http://www.rivermap.cn/help/show-1943.html\n",
      "1940-安徽省卫星地图离线包下载 , http://www.rivermap.cn/help/show-1940.html\n",
      "1932-北京市卫星地图离线包下载 , http://www.rivermap.cn/help/show-1932.html\n"
     ]
    }
   ],
   "source": [
    "for k in dict_from_file:\n",
    "    print(k,\",\",dict_from_file[k])"
   ]
  },
  {
   "cell_type": "code",
   "execution_count": null,
   "metadata": {},
   "outputs": [],
   "source": []
  }
 ],
 "metadata": {
  "kernelspec": {
   "display_name": "Python 3",
   "language": "python",
   "name": "python3"
  },
  "language_info": {
   "codemirror_mode": {
    "name": "ipython",
    "version": 3
   },
   "file_extension": ".py",
   "mimetype": "text/x-python",
   "name": "python",
   "nbconvert_exporter": "python",
   "pygments_lexer": "ipython3",
   "version": "3.6.5"
  }
 },
 "nbformat": 4,
 "nbformat_minor": 2
}
