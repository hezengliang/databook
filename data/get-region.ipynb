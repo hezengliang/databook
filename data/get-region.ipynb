{
 "cells": [
  {
   "cell_type": "code",
   "execution_count": 1,
   "metadata": {},
   "outputs": [],
   "source": [
    "# coding:utf-8\n",
    "# 引入requests包和正则表达式包re\n",
    "import requests\n",
    "import re\n",
    "import pprint\n",
    "from bs4 import BeautifulSoup"
   ]
  },
  {
   "cell_type": "raw",
   "metadata": {},
   "source": [
    "Accept:\ttext/html,application/xhtml+xm…ml;q=0.9,image/webp,*/*;q=0.8\n",
    "Accept-Encoding: gzip, deflate\n",
    "Accept-Language: zh-CN,zh;q=0.8,zh-TW;q=0.7,zh-HK;q=0.5,en-US;q=0.3,en;q=0.2\n",
    "Connection: keep-alive\n",
    "Cookie:\tHm_lvt_83424855675cf222978f8cc…22978f8cc8a317290a=1552462473\n",
    "Host: pic.rivermap.cn\n",
    "User-Agent:\tMozilla/5.0 (X11; Ubuntu; Linu…) Gecko/20100101 Firefox/65.0"
   ]
  },
  {
   "cell_type": "code",
   "execution_count": 2,
   "metadata": {},
   "outputs": [],
   "source": [
    "headers = {'Accept':'text/html,application/xhtml+xml,application/xml;q=0.9,image/webp,*/*;q=0.8', \\\n",
    "           'Accept-Encoding':'gzip, deflate', \\\n",
    "           'Accept-Language':'zh-CN,zh;q=0.8,zh-TW;q=0.7,zh-HK;q=0.5,en-US;q=0.3,en;q=0.2', \\\n",
    "           'Connection':'keep-alive', \\\n",
    "           'Cookie':'', \\\n",
    "           'Host':'www.rivermap.cn', \\\n",
    "           'User-Agent':'Mozilla/5.0 (X11; Ubuntu; Linux x86_64; rv:65.0) Gecko/20100101 Firefox/65.0'} "
   ]
  },
  {
   "cell_type": "code",
   "execution_count": 3,
   "metadata": {},
   "outputs": [
    {
     "name": "stdout",
     "output_type": "stream",
     "text": [
      "{'Accept': 'text/html,application/xhtml+xml,application/xml;q=0.9,image/webp,*/*;q=0.8', 'Accept-Encoding': 'gzip, deflate', 'Accept-Language': 'zh-CN,zh;q=0.8,zh-TW;q=0.7,zh-HK;q=0.5,en-US;q=0.3,en;q=0.2', 'Connection': 'keep-alive', 'Cookie': '', 'Host': 'www.rivermap.cn', 'User-Agent': 'Mozilla/5.0 (X11; Ubuntu; Linux x86_64; rv:65.0) Gecko/20100101 Firefox/65.0'}\n"
     ]
    }
   ],
   "source": [
    "print(headers)"
   ]
  },
  {
   "cell_type": "raw",
   "metadata": {},
   "source": [
    "url ='http://www.rivermap.cn/help/show-2097.html'\n",
    "#response=requests.get(url,headers = headers)\n",
    "response=requests.get(url)\n",
    "print(response.content)"
   ]
  },
  {
   "cell_type": "code",
   "execution_count": 7,
   "metadata": {},
   "outputs": [],
   "source": [
    "def load_page(url):\n",
    "    response=requests.get(url,headers = headers)\n",
    "    data=response.content\n",
    "    return data\n",
    "\n",
    "def load_index():\n",
    "    url ='http://www.rivermap.cn/help/show-2097.html'\n",
    "    html = load_page(url)\n",
    "    #pprint.pprint(html)\n",
    "    return html\n",
    "\n",
    "def get_index():\n",
    "    html = load_index() \n",
    "    regx=r'show-[\\S]*html'  # 定义图片正则表达式\n",
    "    pattern=re.compile(regx) # 编译表达式构造匹配模式\n",
    "    get_images=re.findall(pattern,repr(html)) # 在页面中匹配图片链接\n",
    "    print(\"发现Region,共计：\",len(get_images))\n",
    "    return get_images\n",
    "\n",
    "def get_bs4():\n",
    "    html_doc = load_index() \n",
    "    soup = BeautifulSoup(html_doc)\n",
    "    #print(soup.prettify())\n",
    "    return soup\n",
    "\n",
    "soup = get_bs4()\n",
    "#get_index()"
   ]
  },
  {
   "cell_type": "code",
   "execution_count": 11,
   "metadata": {},
   "outputs": [
    {
     "name": "stdout",
     "output_type": "stream",
     "text": [
      "<title>天津市谷歌高清卫星地图下载(百度网盘离线包下载) - 技术文章 - 谷歌卫星地图下载器_谷歌地图高清卫星地图_北斗卫星地图_水经注万能地图下载器-水经注软件</title>\n"
     ]
    }
   ],
   "source": [
    "print(soup.title)"
   ]
  },
  {
   "cell_type": "code",
   "execution_count": 10,
   "metadata": {},
   "outputs": [],
   "source": [
    "alist = soup.find_all('a')\n",
    "with open('region.txt', \"w\") as fregion:\n",
    "    fregion.write('{') \n",
    "    for a in alist:\n",
    "        if 'data-href' in a.attrs:\n",
    "            if a.attrs['title'].find('地图离线包下载')>2 and len(str(a.attrs['class']))>=13 :\n",
    "                #print(\"#\",str(a.attrs['class']).strip()[7:11],\",\",a.attrs['title'])\n",
    "                fregion.write(\"'\" + str(a.attrs['class']).strip()[7:11] + \"-\" + a.attrs['title'] + \"':\")\n",
    "                #print(\"http://www.rivermap.cn\"+a.attrs['href'])\n",
    "                fregion.write(\"'http://www.rivermap.cn\" + a.attrs['href'] + \"',\\n\")\n",
    "    fregion.write('}')\n",
    "    \n",
    "#print(alist.attrs['data-href'])"
   ]
  },
  {
   "cell_type": "code",
   "execution_count": null,
   "metadata": {},
   "outputs": [],
   "source": []
  }
 ],
 "metadata": {
  "kernelspec": {
   "display_name": "Python 3",
   "language": "python",
   "name": "python3"
  },
  "language_info": {
   "codemirror_mode": {
    "name": "ipython",
    "version": 3
   },
   "file_extension": ".py",
   "mimetype": "text/x-python",
   "name": "python",
   "nbconvert_exporter": "python",
   "pygments_lexer": "ipython3",
   "version": "3.6.5"
  }
 },
 "nbformat": 4,
 "nbformat_minor": 2
}
