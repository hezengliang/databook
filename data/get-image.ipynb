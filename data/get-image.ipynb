{
 "cells": [
  {
   "cell_type": "markdown",
   "metadata": {},
   "source": [
    "Get Image Data URL:\n",
    "```\n",
    "https://pan.baidu.com/s/1ehwywhZ0-iLn66JW7XHV2g \n",
    "https://pan.baidu.com/s/1PzrKCpjLeTSO5_zmp-Sq_Q \n",
    "https://pan.baidu.com/s/1rRwdou87U4oBBunNoC5XNg \n",
    "https://pan.baidu.com/s/1wRw_6x-WnzZs_ZRoGEHZ6g \n",
    "https://pan.baidu.com/s/1-gTkxXbtfv1_w7gEQVW8sQ\n",
    "```\n",
    "\n",
    "- 百度网盘Python客户端, https://github.com/houtianze/bypy\n",
    "- 百度网盘下载脚本, https://github.com/sdvcrx/pan-baidu-download\n",
    "- https://blog.csdn.net/lemonix7/article/details/80978727\n",
    "  - bypy downdir /data --downloader aria2"
   ]
  },
  {
   "cell_type": "code",
   "execution_count": 1,
   "metadata": {},
   "outputs": [],
   "source": [
    "#!pip install bypy"
   ]
  },
  {
   "cell_type": "code",
   "execution_count": null,
   "metadata": {},
   "outputs": [],
   "source": []
  },
  {
   "cell_type": "code",
   "execution_count": 2,
   "metadata": {},
   "outputs": [],
   "source": [
    "# coding:utf-8\n",
    "# 引入requests包和正则表达式包re\n",
    "import requests\n",
    "import re"
   ]
  },
  {
   "cell_type": "code",
   "execution_count": null,
   "metadata": {},
   "outputs": [],
   "source": [
    "def load_page(url):\n",
    "    response=requests.get(url)\n",
    "    data=response.content\n",
    "    return data"
   ]
  },
  {
   "cell_type": "code",
   "execution_count": null,
   "metadata": {},
   "outputs": [],
   "source": [
    "# 定义爬取页面的链接\n",
    "url ='https://pan.baidu.com/s/1ehwywhZ0-iLn66JW7XHV2g'\n",
    "\n",
    "# 调用load_page函数，下载页面内容\n",
    "html = load_page(url)"
   ]
  },
  {
   "cell_type": "code",
   "execution_count": null,
   "metadata": {},
   "outputs": [],
   "source": [
    "import pprint\n",
    "pprint..pprint(html)"
   ]
  },
  {
   "cell_type": "code",
   "execution_count": null,
   "metadata": {},
   "outputs": [],
   "source": [
    "regx=r'http://[\\S]*rar'  # 定义图片正则表达式\n",
    "pattern=re.compile(regx) # 编译表达式构造匹配模式\n",
    "get_images=re.findall(pattern,repr(html)) # 在页面中匹配图片链接\n",
    "    \n",
    "print(\"发现jpg图像,共计：\",len(get_images))\n",
    "    "
   ]
  },
  {
   "cell_type": "code",
   "execution_count": null,
   "metadata": {},
   "outputs": [],
   "source": []
  }
 ],
 "metadata": {
  "kernelspec": {
   "display_name": "Python 3",
   "language": "python",
   "name": "python3"
  },
  "language_info": {
   "codemirror_mode": {
    "name": "ipython",
    "version": 3
   },
   "file_extension": ".py",
   "mimetype": "text/x-python",
   "name": "python",
   "nbconvert_exporter": "python",
   "pygments_lexer": "ipython3",
   "version": "3.6.5"
  }
 },
 "nbformat": 4,
 "nbformat_minor": 2
}
